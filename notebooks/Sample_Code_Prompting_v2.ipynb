{
  "cells": [
    {
      "cell_type": "markdown",
      "source": [
        "## Step 0 - Installing Librariess"
      ],
      "metadata": {
        "id": "q1bOuZGyPgvu"
      }
    },
    {
      "cell_type": "code",
      "source": [
        "!pip install -q --no-deps bitsandbytes accelerate xformers==0.0.29.post3 peft trl triton cut_cross_entropy unsloth_zoo\n",
        "!pip install -q sentencepiece protobuf \"datasets>=3.4.1\" huggingface_hub hf_transfer\n",
        "!pip install -q --no-deps unsloth"
      ],
      "metadata": {
        "colab": {
          "base_uri": "https://localhost:8080/"
        },
        "collapsed": true,
        "id": "XWU1r8B5Pc8w",
        "outputId": "e90466d9-436e-4a4a-b68a-b6ebf56cb9de"
      },
      "execution_count": 1,
      "outputs": [
        {
          "output_type": "stream",
          "name": "stdout",
          "text": [
            "\u001b[2K   \u001b[90m━━━━━━━━━━━━━━━━━━━━━━━━━━━━━━━━━━━━━━━━\u001b[0m \u001b[32m43.4/43.4 MB\u001b[0m \u001b[31m48.5 MB/s\u001b[0m eta \u001b[36m0:00:00\u001b[0m\n",
            "\u001b[2K   \u001b[90m━━━━━━━━━━━━━━━━━━━━━━━━━━━━━━━━━━━━━━━━\u001b[0m \u001b[32m72.9/72.9 MB\u001b[0m \u001b[31m30.8 MB/s\u001b[0m eta \u001b[36m0:00:00\u001b[0m\n",
            "\u001b[2K   \u001b[90m━━━━━━━━━━━━━━━━━━━━━━━━━━━━━━━━━━━━━━━━\u001b[0m \u001b[32m511.9/511.9 kB\u001b[0m \u001b[31m46.6 MB/s\u001b[0m eta \u001b[36m0:00:00\u001b[0m\n",
            "\u001b[2K   \u001b[90m━━━━━━━━━━━━━━━━━━━━━━━━━━━━━━━━━━━━━━━━\u001b[0m \u001b[32m176.4/176.4 kB\u001b[0m \u001b[31m20.6 MB/s\u001b[0m eta \u001b[36m0:00:00\u001b[0m\n",
            "\u001b[2K     \u001b[90m━━━━━━━━━━━━━━━━━━━━━━━━━━━━━━━━━━━━━━━━\u001b[0m \u001b[32m47.4/47.4 kB\u001b[0m \u001b[31m4.6 MB/s\u001b[0m eta \u001b[36m0:00:00\u001b[0m\n",
            "\u001b[2K   \u001b[90m━━━━━━━━━━━━━━━━━━━━━━━━━━━━━━━━━━━━━━━━\u001b[0m \u001b[32m306.8/306.8 kB\u001b[0m \u001b[31m28.3 MB/s\u001b[0m eta \u001b[36m0:00:00\u001b[0m\n",
            "\u001b[?25h"
          ]
        }
      ]
    },
    {
      "cell_type": "markdown",
      "source": [
        "## Step 1 - Choosing Models"
      ],
      "metadata": {
        "id": "ZoGAPRaJPnNo"
      }
    },
    {
      "cell_type": "code",
      "execution_count": 2,
      "metadata": {
        "colab": {
          "base_uri": "https://localhost:8080/"
        },
        "id": "-Xbb0cuLzwgf",
        "outputId": "205e559e-b019-488e-f497-df4802116011",
        "collapsed": true
      },
      "outputs": [
        {
          "output_type": "stream",
          "name": "stdout",
          "text": [
            "==((====))==  Unsloth 2025.8.4: Fast Gemma3 patching. Transformers: 4.55.0.\n",
            "   \\\\   /|    NVIDIA A100-SXM4-40GB. Num GPUs = 1. Max memory: 39.557 GB. Platform: Linux.\n",
            "O^O/ \\_/ \\    Torch: 2.6.0+cu124. CUDA: 8.0. CUDA Toolkit: 12.4. Triton: 3.2.0\n",
            "\\        /    Bfloat16 = TRUE. FA [Xformers = 0.0.29.post3. FA2 = False]\n",
            " \"-____-\"     Free license: http://github.com/unslothai/unsloth\n",
            "Unsloth: Fast downloading is enabled - ignore downloading bars which are red colored!\n"
          ]
        }
      ],
      "source": [
        "from unsloth import FastModel\n",
        "import torch\n",
        "from transformers import AutoConfig # Import AutoConfig\n",
        "\n",
        "# Choose any model of your choosing, based on your GPU RAM\n",
        "default = \"md-nishat-008/TigerLLM-1B-it\"\n",
        "# gemma3_1b = \"google/gemma-3-1b-it\"\n",
        "# gemma3_4b = \"google/gemma-3-4b-it\"\n",
        "# gemma3_12b = \"google/gemma-3-12b-it\"\n",
        "# gemma3_27b = \"google/gemma-3-27b-it\"\n",
        "\n",
        "# Load model with the corrected config\n",
        "model, tokenizer = FastModel.from_pretrained(\n",
        "    model_name = default,\n",
        "    max_seq_length = 1024,\n",
        "    load_in_4bit = False,\n",
        "    load_in_8bit = True,\n",
        "    full_finetuning = False,\n",
        "    # token = \"hf_...\", # In case you need it\n",
        ")\n",
        "\n",
        "\n",
        "# Note - You will find your Hugging Face Access Token in your Hugging Face Account.\n",
        "# This will be necessary for Gemma & LLaMA models."
      ]
    },
    {
      "cell_type": "markdown",
      "source": [
        "## Step 2 - Play with the Model"
      ],
      "metadata": {
        "id": "5E75L_TxTy2q"
      }
    },
    {
      "cell_type": "code",
      "source": [
        "from unsloth.chat_templates import get_chat_template\n",
        "\n",
        "# Attach the TigerLLM & Gemma-3 chat template to the tokenizer\n",
        "tokenizer = get_chat_template(tokenizer, chat_template=\"gemma-3\")\n",
        "\n",
        "# Compose the conversation\n",
        "bangla_q = (\n",
        "    \"মৌলিক সংখ্যা বের করার জন্য একটি পাইথন ফাংশন লিখুন\"\n",
        ")\n",
        "\n",
        "\n",
        "messages = [\n",
        "    {\n",
        "        \"role\": \"user\",\n",
        "        \"content\": bangla_q,\n",
        "    }\n",
        "]\n",
        "\n",
        "# Render the chat template to plain text\n",
        "chat_text = tokenizer.apply_chat_template(\n",
        "    messages,\n",
        "    add_generation_prompt=True,  # must be True for generation\n",
        "    tokenize=False               # return a plain string\n",
        ")\n",
        "\n",
        "# Tokenize and generate\n",
        "inputs = tokenizer(chat_text, return_tensors=\"pt\").to(\"cuda\")\n",
        "\n",
        "outputs = model.generate(\n",
        "    **inputs,\n",
        "    use_cache=False,\n",
        "    max_new_tokens=256,           # increase for longer outputs\n",
        "    temperature=0.3,\n",
        "    top_p=0.95,\n",
        "    top_k=64,\n",
        ")\n",
        "\n",
        "print(tokenizer.batch_decode(outputs, skip_special_tokens=True)[0])"
      ],
      "metadata": {
        "colab": {
          "base_uri": "https://localhost:8080/"
        },
        "id": "4mmc0Vw1ga0N",
        "outputId": "e9f1ff3b-38e2-4eb3-f604-305b4ddbfedb"
      },
      "execution_count": 3,
      "outputs": [
        {
          "output_type": "stream",
          "name": "stdout",
          "text": [
            "user\n",
            "মৌলিক সংখ্যা বের করার জন্য একটি পাইথন ফাংশন লিখুন\n",
            "model\n",
            "```python\n",
            "def is_prime(n):\n",
            "    if n <= 1:\n",
            "        return False\n",
            "    for i in range(2, int(n**0.5) + 1):\n",
            "        if n % i == 0:\n",
            "            return False\n",
            "    return True\n",
            "```\n"
          ]
        }
      ]
    },
    {
      "cell_type": "markdown",
      "source": [
        "## Step 3 - Try the Dev Set"
      ],
      "metadata": {
        "id": "Ga_WYuq1ks9r"
      }
    },
    {
      "cell_type": "code",
      "source": [
        "import pandas as pd\n",
        "import torch\n",
        "from tqdm.auto import tqdm\n",
        "from unsloth.chat_templates import get_chat_template\n",
        "\n",
        "tokenizer = get_chat_template(tokenizer, chat_template=\"gemma-3\")\n",
        "\n",
        "# Load prompts\n",
        "df = pd.read_csv(\"dev.csv\")  # expects columns: id, instruction\n",
        "assert {\"id\", \"instruction\"}.issubset(df.columns), \"CSV must have columns: id, instruction\"\n",
        "\n",
        "responses = []\n",
        "for prompt in tqdm(df[\"instruction\"], desc=\"Generating\"):\n",
        "    chat_text = tokenizer.apply_chat_template(\n",
        "        [{\"role\": \"user\", \"content\": str(prompt)}],\n",
        "        add_generation_prompt=True,\n",
        "        tokenize=False,\n",
        "    )\n",
        "    inputs = tokenizer(chat_text, return_tensors=\"pt\").to(model.device)\n",
        "\n",
        "    with torch.no_grad():\n",
        "        out = model.generate(\n",
        "            **inputs,\n",
        "            use_cache=False,\n",
        "            max_new_tokens=256,\n",
        "            temperature=0.3,\n",
        "            top_p=0.95,\n",
        "            top_k=64,\n",
        "        )\n",
        "\n",
        "    gen_ids  = out[0][inputs[\"input_ids\"].shape[1]:]\n",
        "    gen_text = tokenizer.decode(gen_ids, skip_special_tokens=True).strip()\n",
        "    responses.append(gen_text)\n",
        "\n",
        "# Save ONLY id + response as JSON\n",
        "out_df = pd.DataFrame({\"id\": df[\"id\"], \"response\": responses})\n",
        "out_df.to_json(\"submission.json\", orient=\"records\", force_ascii=False, indent=2)\n",
        "print(f\"✅ Wrote submission.json with {len(out_df)} rows (id, response).\")\n"
      ],
      "metadata": {
        "colab": {
          "base_uri": "https://localhost:8080/",
          "height": 66,
          "referenced_widgets": [
            "798aa4d09a364d7baa8daa26ce176567",
            "9707233849524154b14af302cc07bc6e",
            "b45a4781143f4682ba546ba5ce6ee04d",
            "852c2a795faf45fa87c78f3bbe268e28",
            "967f76efeec74e91a59e09db44ea8f47",
            "655ebe273c46459bb84ddd835b4d22c2",
            "0abc62a5dad04e77986c53bf2bf06ddf",
            "4afb19b9696f4ca2876317e15238a937",
            "f63113eac21b4f27a808ca17d167c29c",
            "54cb0a165b044f4b85830ff0e60dc36f",
            "30eb20e14e3540f8b954cc93e0a76b2c"
          ]
        },
        "id": "51GkXo-VkzcK",
        "outputId": "8cb11ad6-1edc-4931-f890-f1539edfdcc0"
      },
      "execution_count": 3,
      "outputs": [
        {
          "output_type": "display_data",
          "data": {
            "text/plain": [
              "Generating:   0%|          | 0/400 [00:00<?, ?it/s]"
            ],
            "application/vnd.jupyter.widget-view+json": {
              "version_major": 2,
              "version_minor": 0,
              "model_id": "798aa4d09a364d7baa8daa26ce176567"
            }
          },
          "metadata": {}
        },
        {
          "output_type": "stream",
          "name": "stdout",
          "text": [
            "✅ Wrote submission.json with 400 rows (id, response).\n"
          ]
        }
      ]
    },
    {
      "cell_type": "markdown",
      "source": [
        "## Step 4 - Preparing Submission File"
      ],
      "metadata": {
        "id": "Y69_P_FZGFrQ"
      }
    },
    {
      "cell_type": "code",
      "source": [
        "import json, os, re, zipfile\n",
        "\n",
        "SUB_PATH = \"submission.json\"\n",
        "\n",
        "def file_format_check(path: str) -> bool:\n",
        "    # name + extension\n",
        "    if os.path.basename(path) != \"submission.json\":\n",
        "        print(\"Error: File name must be exactly 'submission.json'\")\n",
        "        return False\n",
        "    if not path.lower().endswith(\".json\"):\n",
        "        print(\"Error: File must have .json extension\")\n",
        "        return False\n",
        "\n",
        "    # must be valid JSON (not JSONL) and root must be a list\n",
        "    try:\n",
        "        with open(path, \"r\", encoding=\"utf-8\") as f:\n",
        "            data = json.load(f)\n",
        "    except json.JSONDecodeError as e:\n",
        "        print(f\"Error: Invalid JSON format - {e}\")\n",
        "        print(\"Note: The file must be in proper JSON format (not JSONL)\")\n",
        "        return False\n",
        "\n",
        "    if not isinstance(data, list):\n",
        "        print(\"Error: The root element should be a list of objects\")\n",
        "        return False\n",
        "\n",
        "    # each item: dict with ONLY keys {'id','response'}; id=int; response=str\n",
        "    for idx, item in enumerate(data):\n",
        "        if not isinstance(item, dict):\n",
        "            print(f\"Error: Item at index {idx} is not a dictionary\")\n",
        "            return False\n",
        "        keys = set(item.keys())\n",
        "        if keys != {\"id\", \"response\"}:\n",
        "            print(f\"Error: Item at index {idx} must contain only keys 'id' and 'response', found: {keys}\")\n",
        "            return False\n",
        "        if not isinstance(item[\"id\"], int):\n",
        "            print(f\"Error: 'id' field at index {idx} must be an integer\")\n",
        "            return False\n",
        "        if not isinstance(item[\"response\"], str):\n",
        "            print(f\"Error: 'response' field at index {idx} must be a string\")\n",
        "            return False\n",
        "\n",
        "    print(\"Format check passed successfully!\")\n",
        "    return True\n",
        "\n",
        "# ---------- Load, compute per-item validity, blank invalids, save, zip ----------\n",
        "# Load JSON list\n",
        "with open(SUB_PATH, \"r\", encoding=\"utf-8\") as f:\n",
        "    data = json.load(f)\n",
        "\n",
        "n = len(data)\n",
        "fence_pat = re.compile(r\"^```python[\\s\\S]*```$\", re.MULTILINE)\n",
        "\n",
        "valid_format = []\n",
        "valid_fence  = []\n",
        "valid_both   = []\n",
        "\n",
        "# Per-item validation mirrors file checker semantics\n",
        "def item_format_ok(item):\n",
        "    return (\n",
        "        isinstance(item, dict)\n",
        "        and set(item.keys()) == {\"id\", \"response\"}\n",
        "        and isinstance(item[\"id\"], int)\n",
        "        and isinstance(item[\"response\"], str)\n",
        "    )\n",
        "\n",
        "for item in data:\n",
        "    vfmt = item_format_ok(item)\n",
        "    vf   = bool(fence_pat.match(item[\"response\"])) if vfmt else False\n",
        "    valid_format.append(vfmt)\n",
        "    valid_fence.append(vf)\n",
        "    valid_both.append(vfmt and vf)\n",
        "\n",
        "# Report stats\n",
        "nf = sum(valid_fence)\n",
        "nm = sum(valid_format)\n",
        "nb = sum(valid_both)\n",
        "den = max(n, 1)\n",
        "print(f\"Fencing valid: {nf}/{n} ({nf*100.0/den:.1f}%)\")\n",
        "print(f\"Format valid:  {nm}/{n} ({nm*100.0/den:.1f}%)\")\n",
        "print(f\"Both valid:    {nb}/{n} ({nb*100.0/den:.1f}%)\")\n",
        "\n",
        "# Strict policy: blank responses that fail ANY check\n",
        "for i, ok in enumerate(valid_both):\n",
        "    if not ok and isinstance(data[i], dict) and \"response\" in data[i]:\n",
        "        data[i][\"response\"] = \"\"\n",
        "\n",
        "# Overwrite submission.json (id+response only)\n",
        "with open(SUB_PATH, \"w\", encoding=\"utf-8\") as f:\n",
        "    json.dump(\n",
        "        [{\"id\": item[\"id\"], \"response\": item[\"response\"]} for item in data],\n",
        "        f, ensure_ascii=False, indent=2\n",
        "    )\n",
        "print(\"✅ Updated submission.json after checks (invalid responses blanked).\")\n",
        "\n",
        "# Final file-level check (should pass)\n",
        "_ = file_format_check(SUB_PATH)\n",
        "\n",
        "# Zip as submission.zip (Jupyter-friendly, no shell commands)\n",
        "with zipfile.ZipFile(\"submission.zip\", \"w\", compression=zipfile.ZIP_DEFLATED) as zf:\n",
        "    zf.write(SUB_PATH)\n",
        "print(\"📦 Created submission.zip containing submission.json.\")\n"
      ],
      "metadata": {
        "colab": {
          "base_uri": "https://localhost:8080/"
        },
        "id": "dPe8xpOSGKih",
        "outputId": "698f1575-0d2c-4e62-beb5-9769a70638c9"
      },
      "execution_count": 4,
      "outputs": [
        {
          "output_type": "stream",
          "name": "stdout",
          "text": [
            "Fencing valid: 319/400 (79.8%)\n",
            "Format valid:  400/400 (100.0%)\n",
            "Both valid:    319/400 (79.8%)\n",
            "✅ Updated submission.json after checks (invalid responses blanked).\n",
            "Format check passed successfully!\n",
            "📦 Created submission.zip containing submission.json.\n"
          ]
        }
      ]
    },
    {
      "cell_type": "markdown",
      "source": [
        "# Submit the submission.zip file in CodaBench"
      ],
      "metadata": {
        "id": "92Geu_WmHMfm"
      }
    }
  ],
  "metadata": {
    "accelerator": "GPU",
    "colab": {
      "gpuType": "A100",
      "provenance": []
    },
    "kernelspec": {
      "display_name": "Python 3",
      "name": "python3"
    },
    "language_info": {
      "codemirror_mode": {
        "name": "ipython",
        "version": 3
      },
      "file_extension": ".py",
      "mimetype": "text/x-python",
      "name": "python",
      "nbconvert_exporter": "python",
      "pygments_lexer": "ipython3",
      "version": "3.11.11"
    },
    "widgets": {
      "application/vnd.jupyter.widget-state+json": {
        "798aa4d09a364d7baa8daa26ce176567": {
          "model_module": "@jupyter-widgets/controls",
          "model_name": "HBoxModel",
          "model_module_version": "1.5.0",
          "state": {
            "_dom_classes": [],
            "_model_module": "@jupyter-widgets/controls",
            "_model_module_version": "1.5.0",
            "_model_name": "HBoxModel",
            "_view_count": null,
            "_view_module": "@jupyter-widgets/controls",
            "_view_module_version": "1.5.0",
            "_view_name": "HBoxView",
            "box_style": "",
            "children": [
              "IPY_MODEL_9707233849524154b14af302cc07bc6e",
              "IPY_MODEL_b45a4781143f4682ba546ba5ce6ee04d",
              "IPY_MODEL_852c2a795faf45fa87c78f3bbe268e28"
            ],
            "layout": "IPY_MODEL_967f76efeec74e91a59e09db44ea8f47"
          }
        },
        "9707233849524154b14af302cc07bc6e": {
          "model_module": "@jupyter-widgets/controls",
          "model_name": "HTMLModel",
          "model_module_version": "1.5.0",
          "state": {
            "_dom_classes": [],
            "_model_module": "@jupyter-widgets/controls",
            "_model_module_version": "1.5.0",
            "_model_name": "HTMLModel",
            "_view_count": null,
            "_view_module": "@jupyter-widgets/controls",
            "_view_module_version": "1.5.0",
            "_view_name": "HTMLView",
            "description": "",
            "description_tooltip": null,
            "layout": "IPY_MODEL_655ebe273c46459bb84ddd835b4d22c2",
            "placeholder": "​",
            "style": "IPY_MODEL_0abc62a5dad04e77986c53bf2bf06ddf",
            "value": "Generating: 100%"
          }
        },
        "b45a4781143f4682ba546ba5ce6ee04d": {
          "model_module": "@jupyter-widgets/controls",
          "model_name": "FloatProgressModel",
          "model_module_version": "1.5.0",
          "state": {
            "_dom_classes": [],
            "_model_module": "@jupyter-widgets/controls",
            "_model_module_version": "1.5.0",
            "_model_name": "FloatProgressModel",
            "_view_count": null,
            "_view_module": "@jupyter-widgets/controls",
            "_view_module_version": "1.5.0",
            "_view_name": "ProgressView",
            "bar_style": "success",
            "description": "",
            "description_tooltip": null,
            "layout": "IPY_MODEL_4afb19b9696f4ca2876317e15238a937",
            "max": 400,
            "min": 0,
            "orientation": "horizontal",
            "style": "IPY_MODEL_f63113eac21b4f27a808ca17d167c29c",
            "value": 400
          }
        },
        "852c2a795faf45fa87c78f3bbe268e28": {
          "model_module": "@jupyter-widgets/controls",
          "model_name": "HTMLModel",
          "model_module_version": "1.5.0",
          "state": {
            "_dom_classes": [],
            "_model_module": "@jupyter-widgets/controls",
            "_model_module_version": "1.5.0",
            "_model_name": "HTMLModel",
            "_view_count": null,
            "_view_module": "@jupyter-widgets/controls",
            "_view_module_version": "1.5.0",
            "_view_name": "HTMLView",
            "description": "",
            "description_tooltip": null,
            "layout": "IPY_MODEL_54cb0a165b044f4b85830ff0e60dc36f",
            "placeholder": "​",
            "style": "IPY_MODEL_30eb20e14e3540f8b954cc93e0a76b2c",
            "value": " 400/400 [29:42&lt;00:00,  3.99s/it]"
          }
        },
        "967f76efeec74e91a59e09db44ea8f47": {
          "model_module": "@jupyter-widgets/base",
          "model_name": "LayoutModel",
          "model_module_version": "1.2.0",
          "state": {
            "_model_module": "@jupyter-widgets/base",
            "_model_module_version": "1.2.0",
            "_model_name": "LayoutModel",
            "_view_count": null,
            "_view_module": "@jupyter-widgets/base",
            "_view_module_version": "1.2.0",
            "_view_name": "LayoutView",
            "align_content": null,
            "align_items": null,
            "align_self": null,
            "border": null,
            "bottom": null,
            "display": null,
            "flex": null,
            "flex_flow": null,
            "grid_area": null,
            "grid_auto_columns": null,
            "grid_auto_flow": null,
            "grid_auto_rows": null,
            "grid_column": null,
            "grid_gap": null,
            "grid_row": null,
            "grid_template_areas": null,
            "grid_template_columns": null,
            "grid_template_rows": null,
            "height": null,
            "justify_content": null,
            "justify_items": null,
            "left": null,
            "margin": null,
            "max_height": null,
            "max_width": null,
            "min_height": null,
            "min_width": null,
            "object_fit": null,
            "object_position": null,
            "order": null,
            "overflow": null,
            "overflow_x": null,
            "overflow_y": null,
            "padding": null,
            "right": null,
            "top": null,
            "visibility": null,
            "width": null
          }
        },
        "655ebe273c46459bb84ddd835b4d22c2": {
          "model_module": "@jupyter-widgets/base",
          "model_name": "LayoutModel",
          "model_module_version": "1.2.0",
          "state": {
            "_model_module": "@jupyter-widgets/base",
            "_model_module_version": "1.2.0",
            "_model_name": "LayoutModel",
            "_view_count": null,
            "_view_module": "@jupyter-widgets/base",
            "_view_module_version": "1.2.0",
            "_view_name": "LayoutView",
            "align_content": null,
            "align_items": null,
            "align_self": null,
            "border": null,
            "bottom": null,
            "display": null,
            "flex": null,
            "flex_flow": null,
            "grid_area": null,
            "grid_auto_columns": null,
            "grid_auto_flow": null,
            "grid_auto_rows": null,
            "grid_column": null,
            "grid_gap": null,
            "grid_row": null,
            "grid_template_areas": null,
            "grid_template_columns": null,
            "grid_template_rows": null,
            "height": null,
            "justify_content": null,
            "justify_items": null,
            "left": null,
            "margin": null,
            "max_height": null,
            "max_width": null,
            "min_height": null,
            "min_width": null,
            "object_fit": null,
            "object_position": null,
            "order": null,
            "overflow": null,
            "overflow_x": null,
            "overflow_y": null,
            "padding": null,
            "right": null,
            "top": null,
            "visibility": null,
            "width": null
          }
        },
        "0abc62a5dad04e77986c53bf2bf06ddf": {
          "model_module": "@jupyter-widgets/controls",
          "model_name": "DescriptionStyleModel",
          "model_module_version": "1.5.0",
          "state": {
            "_model_module": "@jupyter-widgets/controls",
            "_model_module_version": "1.5.0",
            "_model_name": "DescriptionStyleModel",
            "_view_count": null,
            "_view_module": "@jupyter-widgets/base",
            "_view_module_version": "1.2.0",
            "_view_name": "StyleView",
            "description_width": ""
          }
        },
        "4afb19b9696f4ca2876317e15238a937": {
          "model_module": "@jupyter-widgets/base",
          "model_name": "LayoutModel",
          "model_module_version": "1.2.0",
          "state": {
            "_model_module": "@jupyter-widgets/base",
            "_model_module_version": "1.2.0",
            "_model_name": "LayoutModel",
            "_view_count": null,
            "_view_module": "@jupyter-widgets/base",
            "_view_module_version": "1.2.0",
            "_view_name": "LayoutView",
            "align_content": null,
            "align_items": null,
            "align_self": null,
            "border": null,
            "bottom": null,
            "display": null,
            "flex": null,
            "flex_flow": null,
            "grid_area": null,
            "grid_auto_columns": null,
            "grid_auto_flow": null,
            "grid_auto_rows": null,
            "grid_column": null,
            "grid_gap": null,
            "grid_row": null,
            "grid_template_areas": null,
            "grid_template_columns": null,
            "grid_template_rows": null,
            "height": null,
            "justify_content": null,
            "justify_items": null,
            "left": null,
            "margin": null,
            "max_height": null,
            "max_width": null,
            "min_height": null,
            "min_width": null,
            "object_fit": null,
            "object_position": null,
            "order": null,
            "overflow": null,
            "overflow_x": null,
            "overflow_y": null,
            "padding": null,
            "right": null,
            "top": null,
            "visibility": null,
            "width": null
          }
        },
        "f63113eac21b4f27a808ca17d167c29c": {
          "model_module": "@jupyter-widgets/controls",
          "model_name": "ProgressStyleModel",
          "model_module_version": "1.5.0",
          "state": {
            "_model_module": "@jupyter-widgets/controls",
            "_model_module_version": "1.5.0",
            "_model_name": "ProgressStyleModel",
            "_view_count": null,
            "_view_module": "@jupyter-widgets/base",
            "_view_module_version": "1.2.0",
            "_view_name": "StyleView",
            "bar_color": null,
            "description_width": ""
          }
        },
        "54cb0a165b044f4b85830ff0e60dc36f": {
          "model_module": "@jupyter-widgets/base",
          "model_name": "LayoutModel",
          "model_module_version": "1.2.0",
          "state": {
            "_model_module": "@jupyter-widgets/base",
            "_model_module_version": "1.2.0",
            "_model_name": "LayoutModel",
            "_view_count": null,
            "_view_module": "@jupyter-widgets/base",
            "_view_module_version": "1.2.0",
            "_view_name": "LayoutView",
            "align_content": null,
            "align_items": null,
            "align_self": null,
            "border": null,
            "bottom": null,
            "display": null,
            "flex": null,
            "flex_flow": null,
            "grid_area": null,
            "grid_auto_columns": null,
            "grid_auto_flow": null,
            "grid_auto_rows": null,
            "grid_column": null,
            "grid_gap": null,
            "grid_row": null,
            "grid_template_areas": null,
            "grid_template_columns": null,
            "grid_template_rows": null,
            "height": null,
            "justify_content": null,
            "justify_items": null,
            "left": null,
            "margin": null,
            "max_height": null,
            "max_width": null,
            "min_height": null,
            "min_width": null,
            "object_fit": null,
            "object_position": null,
            "order": null,
            "overflow": null,
            "overflow_x": null,
            "overflow_y": null,
            "padding": null,
            "right": null,
            "top": null,
            "visibility": null,
            "width": null
          }
        },
        "30eb20e14e3540f8b954cc93e0a76b2c": {
          "model_module": "@jupyter-widgets/controls",
          "model_name": "DescriptionStyleModel",
          "model_module_version": "1.5.0",
          "state": {
            "_model_module": "@jupyter-widgets/controls",
            "_model_module_version": "1.5.0",
            "_model_name": "DescriptionStyleModel",
            "_view_count": null,
            "_view_module": "@jupyter-widgets/base",
            "_view_module_version": "1.2.0",
            "_view_name": "StyleView",
            "description_width": ""
          }
        }
      }
    }
  },
  "nbformat": 4,
  "nbformat_minor": 0
}